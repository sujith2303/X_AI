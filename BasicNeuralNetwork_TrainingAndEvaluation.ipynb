{
  "nbformat": 4,
  "nbformat_minor": 0,
  "metadata": {
    "colab": {
      "name": "BasicNeuralNetwork-TrainingAndEvaluation.ipynb",
      "provenance": [],
      "collapsed_sections": [],
      "authorship_tag": "ABX9TyOLUwCxy5BFG4FTnSy6uCtE",
      "include_colab_link": true
    },
    "kernelspec": {
      "name": "python3",
      "display_name": "Python 3"
    },
    "language_info": {
      "name": "python"
    },
    "accelerator": "TPU"
  },
  "cells": [
    {
      "cell_type": "markdown",
      "metadata": {
        "id": "view-in-github",
        "colab_type": "text"
      },
      "source": [
        "<a href=\"https://colab.research.google.com/github/sujith2303/X_AI/blob/main/BasicNeuralNetwork_TrainingAndEvaluation.ipynb\" target=\"_parent\"><img src=\"https://colab.research.google.com/assets/colab-badge.svg\" alt=\"Open In Colab\"/></a>"
      ]
    },
    {
      "cell_type": "code",
      "metadata": {
        "id": "Ka3SR6mx0dSX"
      },
      "source": [
        "! pip install tensorflow"
      ],
      "execution_count": null,
      "outputs": []
    },
    {
      "cell_type": "code",
      "metadata": {
        "id": "Yb-ZHGqT5hMW"
      },
      "source": [
        "! pip install numpy"
      ],
      "execution_count": null,
      "outputs": []
    },
    {
      "cell_type": "code",
      "metadata": {
        "id": "b8ipqZrL5jEl"
      },
      "source": [
        "! pip install keras"
      ],
      "execution_count": null,
      "outputs": []
    },
    {
      "cell_type": "code",
      "metadata": {
        "id": "rsQJVArV5lCc"
      },
      "source": [
        "! pip install matplotlib"
      ],
      "execution_count": null,
      "outputs": []
    },
    {
      "cell_type": "code",
      "metadata": {
        "id": "s7A2_hQJK6kC"
      },
      "source": [
        "import numpy as np\n",
        "import tensorflow as tf\n",
        "import keras\n",
        "from keras.layers import Dense, Flatten, Activation,Input,Dropout\n",
        "from keras.models import Model,Sequential\n",
        "from tensorflow.keras.optimizers import SGD\n",
        "import matplotlib.pyplot as plt\n",
        "from tensorflow.keras.utils import to_categorical\n",
        "class NetA:\n",
        "    def __init__(self):\n",
        "        pass\n",
        "        #print('=====Training Net A======')\n",
        "        #self.modelnet()\n",
        "    def modelnet(self,epochs=50):\n",
        "        (x_train, y_train), (self.x_test, self.y_test) = keras.datasets.cifar10.load_data()\n",
        "        y_train = to_categorical(y_train)\n",
        "        \n",
        "        train_norm = x_train.astype('float32')\n",
        "        test_norm = self.x_test.astype('float32')\n",
        "        train_norm = train_norm / 255.0\n",
        "        test_norm = test_norm / 255.0\n",
        "        x_train = train_norm\n",
        "        self.x_test = test_norm\n",
        "        self.y_test =to_categorical(self.y_test)\n",
        "        shape = x_train[0].shape\n",
        "        x_input = Input(shape)\n",
        "        x =Flatten()(x_input)\n",
        "        x = Dense(10,activation =\"softmax\",name='output')(x)\n",
        "        self.model = Model(x_input,x,name='NetA')\n",
        "        opt = SGD(learning_rate=0.001, momentum=0.9)\n",
        "        self.model.compile(optimizer=opt, loss='categorical_crossentropy', metrics=['accuracy'])\n",
        "        self.summarize()\n",
        "        self.history = self.model.fit(x_train,y_train,epochs =epochs,batch_size=64,validation_split=0.1,shuffle=True)\n",
        "        #self.plot()\n",
        "        self._evaluate()\n",
        "\n",
        "    def summarize(self):\n",
        "        print(self.model.summary())\n",
        "    def plot(self):\n",
        "        history =self.history\n",
        "        print('Plotting accuracy.................')\n",
        "        plt.plot(history.history['accuracy'])\n",
        "        plt.plot(history.history['val_accuracy'])\n",
        "        plt.title('model accuracy')\n",
        "        plt.ylabel('accuracy')\n",
        "        plt.xlabel('epoch')\n",
        "        plt.legend(['train', 'test'], loc='upper left')\n",
        "        plt.show()\n",
        "        print('Plotting loss.................')\n",
        "        plt.plot(history.history['loss'])\n",
        "        plt.plot(history.history['val_loss'])\n",
        "        plt.title('model loss')\n",
        "        plt.ylabel('loss')\n",
        "        plt.xlabel('epoch')\n",
        "        plt.legend(['train', 'test'], loc='upper left')\n",
        "        plt.show()\n",
        "        #self._evaluate()\n",
        "\n",
        "    def _evaluate(self):\n",
        "      self.result = self.model.evaluate(self.x_test,self.y_test,batch_size=128)\n",
        "      \n"
      ],
      "execution_count": 27,
      "outputs": []
    },
    {
      "cell_type": "code",
      "metadata": {
        "id": "-p5HjbIuFRbG"
      },
      "source": [
        "import numpy as np\n",
        "import tensorflow as tf\n",
        "import keras\n",
        "from keras.layers import Dense, Flatten, Activation,Input, Dropout\n",
        "from keras.models import Model,Sequential\n",
        "from tensorflow.keras.optimizers import SGD\n",
        "import matplotlib.pyplot as plt\n",
        "from tensorflow.keras.utils import to_categorical\n",
        "class NetB:\n",
        "    def __init__(self):\n",
        "        pass\n",
        "        #print('=====Training Net B======')\n",
        "        #self.modelnet()\n",
        "    def modelnet(self,epochs=50):\n",
        "        (x_train, y_train), (self.x_test, self.y_test) = keras.datasets.cifar10.load_data()\n",
        "        y_train = to_categorical(y_train)\n",
        "        \n",
        "        train_norm = x_train.astype('float32')\n",
        "        test_norm = self.x_test.astype('float32')\n",
        "# normalize to range 0-1\n",
        "        train_norm = train_norm / 255.0\n",
        "        test_norm = test_norm / 255.0\n",
        "        self.y_test =to_categorical(self.y_test)\n",
        "        x_train = train_norm\n",
        "        self.x_test = test_norm\n",
        "        shape = x_train[0].shape\n",
        "        x_input = Input(shape)\n",
        "        x =Flatten()(x_input)\n",
        "        x=Dense(300,activation='relu')(x)\n",
        "        x =Dropout(0.5)(x)\n",
        "        x = Dense(10,activation =\"softmax\",name='output')(x)\n",
        "        self.model = Model(x_input,x,name='NetA')\n",
        "        opt = SGD(learning_rate=0.001, momentum=0.9)\n",
        "        self.model.compile(optimizer=opt, loss='categorical_crossentropy', metrics=['accuracy'])\n",
        "        self.summarize()\n",
        "        self.history = self.model.fit(x_train,y_train,epochs =epochs,batch_size=64,validation_split=0.1,shuffle=True)\n",
        "        #self.plot()\n",
        "        self._evaluate()\n",
        "    def summarize(self):\n",
        "        print(self.model.summary())\n",
        "    def plot(self):\n",
        "        history =self.history\n",
        "        print('Plotting accuracy.................')\n",
        "        plt.plot(history.history['accuracy'])\n",
        "        plt.plot(history.history['val_accuracy'])\n",
        "        plt.title('model accuracy')\n",
        "        plt.ylabel('accuracy')\n",
        "        plt.xlabel('epoch')\n",
        "        plt.legend(['train', 'test'], loc='upper left')\n",
        "        plt.show()\n",
        "        print('Plotting loss.................')\n",
        "        plt.plot(history.history['loss'])\n",
        "        plt.plot(history.history['val_loss'])\n",
        "        plt.title('model loss')\n",
        "        plt.ylabel('loss')\n",
        "        plt.xlabel('epoch')\n",
        "        plt.legend(['train', 'test'], loc='upper left')\n",
        "        plt.show()\n",
        "        #self._evaluate()\n",
        "\n",
        "    def _evaluate(self):\n",
        "      self.result = self.model.evaluate(self.x_test,self.y_test,batch_size=128)\n",
        "      \n"
      ],
      "execution_count": 28,
      "outputs": []
    },
    {
      "cell_type": "code",
      "metadata": {
        "id": "IhKGrmtsuC7N"
      },
      "source": [
        "import numpy as np\n",
        "import tensorflow as tf\n",
        "import keras\n",
        "from keras.layers import Dense, Flatten, Activation,Input,Conv2D, MaxPooling2D,Dropout\n",
        "from keras.models import Model\n",
        "import matplotlib.pyplot as plt\n",
        "from tensorflow.keras.utils import to_categorical\n",
        "class NetC:\n",
        "    def __init__(self):\n",
        "        #print('=====Training Net C======')\n",
        "        #self.modelnet()\n",
        "        pass\n",
        "        \n",
        "    def modelnet(self,epochs=50):\n",
        "        (x_train, y_train), (self.x_test, self.y_test) = keras.datasets.cifar10.load_data()\n",
        "        y_train = to_categorical(y_train)\n",
        "        \n",
        "        train_norm = x_train.astype('float32')\n",
        "        test_norm = self.x_test.astype('float32')\n",
        "# normalize to range 0-1\n",
        "        train_norm = train_norm / 255.0\n",
        "        test_norm = test_norm / 255.0\n",
        "        self.x_test =test_norm\n",
        "        self.y_test =to_categorical(self.y_test)\n",
        "        shape = x_train[0].shape\n",
        "        x_input = Input(shape)\n",
        "        x = Conv2D(25,(5,5))(x_input)\n",
        "        x = Activation('relu')(x)\n",
        "        x = MaxPooling2D((3,3))(x)\n",
        "        x = Flatten()(x)\n",
        "        x = Dropout(0.5)(x)\n",
        "        x = Dense(10,activation =\"softmax\",name='output')(x)\n",
        "        self.model = Model(x_input,x,name='NetA')\n",
        "        self.model.compile(loss='categorical_crossentropy', optimizer='adam',metrics=['accuracy'])\n",
        "        self.summarize()\n",
        "        self.history = self.model.fit(train_norm,y_train,epochs =epochs,validation_split=0.1,shuffle=True,batch_size=64)\n",
        "        #self.plot()\n",
        "        self._evaluate()\n",
        "    def summarize(self):\n",
        "        print(self.model.summary())\n",
        "    def plot(self):\n",
        "        history =self.history\n",
        "        print('Plotting accuracy.................')\n",
        "        plt.plot(history.history['accuracy'])\n",
        "        plt.plot(history.history['val_accuracy'])\n",
        "        plt.title('model accuracy')\n",
        "        plt.ylabel('accuracy')\n",
        "        plt.xlabel('epoch')\n",
        "        plt.legend(['train', 'test'], loc='upper left')\n",
        "        plt.show()\n",
        "        print('Plotting loss.................')\n",
        "        plt.plot(history.history['loss'])\n",
        "        plt.plot(history.history['val_loss'])\n",
        "        plt.title('model loss')\n",
        "        plt.ylabel('loss')\n",
        "        plt.xlabel('epoch')\n",
        "        plt.legend(['train', 'test'], loc='upper left')\n",
        "        plt.show()\n",
        "\n",
        "    def _evaluate(self):\n",
        "      self.result = self.model.evaluate(self.x_test,self.y_test,batch_size=128)\n",
        "      \n"
      ],
      "execution_count": 29,
      "outputs": []
    },
    {
      "cell_type": "code",
      "metadata": {
        "id": "qb6K78H61i-3"
      },
      "source": [
        "nets = [NetA(), NetB(), NetC()]\n",
        "for net in nets:\n",
        "    net_name = type(net).__name__\n",
        "    print(f'==== Training {net_name} ====')\n",
        "    net.modelnet(epochs = 50)\n",
        "    print()\n",
        "    print()\n",
        "    print('=======Train Accuracy=======>',net.history.history['accuracy'][1])\n",
        "    print('=======Test Accuracy ========> ',net.result[1])\n",
        "    print('=======Visualization=========')\n",
        "    net.plot()"
      ],
      "execution_count": null,
      "outputs": []
    },
    {
      "cell_type": "code",
      "metadata": {
        "id": "tJGA1j9Y4C9o"
      },
      "source": [
        ""
      ],
      "execution_count": 21,
      "outputs": []
    }
  ]
}